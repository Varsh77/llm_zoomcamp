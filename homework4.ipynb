{
 "cells": [
  {
   "cell_type": "code",
   "execution_count": 10,
   "id": "304177b5-62db-454f-b7a2-124df72c986d",
   "metadata": {},
   "outputs": [],
   "source": [
    "from sentence_transformers import SentenceTransformer\n",
    "import pandas as pd\n",
    "model_name = 'multi-qa-mpnet-base-dot-v1'\n",
    "model = SentenceTransformer(model_name)"
   ]
  },
  {
   "cell_type": "code",
   "execution_count": 11,
   "id": "0857c44b-d65e-4170-924a-857c8420260b",
   "metadata": {},
   "outputs": [],
   "source": [
    "\n",
    "github_url='https://github.com/DataTalksClub/llm-zoomcamp/blob/main/04-monitoring/data/results-gpt4o.csv'\n",
    "url = f'{github_url}?raw=1'\n",
    "df = pd.read_csv(url)"
   ]
  },
  {
   "cell_type": "code",
   "execution_count": 12,
   "id": "b8a31102-518a-4f8c-a7d1-4ab0d53fae11",
   "metadata": {},
   "outputs": [],
   "source": [
    "df = df.iloc[:300]"
   ]
  },
  {
   "cell_type": "code",
   "execution_count": 13,
   "id": "80cba021-ba11-41dc-9bb8-b214192cd444",
   "metadata": {},
   "outputs": [],
   "source": [
    "answer_llm = df.iloc[0].answer_llm"
   ]
  },
  {
   "cell_type": "code",
   "execution_count": 14,
   "id": "c1e6d87d-abde-42f2-9145-556423bef8c3",
   "metadata": {},
   "outputs": [
    {
     "data": {
      "text/plain": [
       "'The CONTEXT provided does not give specific instructions on how to sign up for the course. However, it does mention that you can access the course materials on the course page: [ML Zoomcamp](http://mlzoomcamp.com/). \\n\\nYou might want to start by visiting the course website and looking for further instructions there, as it likely has additional details on how to sign up or enroll in the course.'"
      ]
     },
     "execution_count": 14,
     "metadata": {},
     "output_type": "execute_result"
    }
   ],
   "source": [
    "answer_llm\n"
   ]
  },
  {
   "cell_type": "code",
   "execution_count": 15,
   "id": "4fd5b734-3809-48aa-b809-052fdd377f2a",
   "metadata": {},
   "outputs": [
    {
     "name": "stdout",
     "output_type": "stream",
     "text": [
      "-0.23882452\n"
     ]
    }
   ],
   "source": [
    "k = model.encode(answer_llm)\n",
    "res=k[0]\n",
    "print(res)"
   ]
  },
  {
   "cell_type": "code",
   "execution_count": 16,
   "id": "26536866-b799-412c-aa1d-a87dea84842f",
   "metadata": {},
   "outputs": [
    {
     "name": "stdout",
     "output_type": "stream",
     "text": [
      "Index(['answer_llm', 'answer_orig', 'document', 'question', 'course'], dtype='object')\n"
     ]
    }
   ],
   "source": [
    "print(df.columns)"
   ]
  },
  {
   "cell_type": "code",
   "execution_count": 17,
   "id": "25e87870-e83f-4444-b3cc-144c4f0b198c",
   "metadata": {},
   "outputs": [
    {
     "data": {
      "text/plain": [
       "'Machine Learning Zoomcamp FAQ\\nThe purpose of this document is to capture frequently asked technical questions.\\nWe did this for our data engineering course and it worked quite well. Check this document for inspiration on how to structure your questions and answers:\\nData Engineering Zoomcamp FAQ\\nIn the course GitHub repository there’s a link. Here it is: https://airtable.com/shryxwLd0COOEaqXo\\nwork'"
      ]
     },
     "execution_count": 17,
     "metadata": {},
     "output_type": "execute_result"
    }
   ],
   "source": [
    "answer_orig = df.iloc[0].answer_orig\n",
    "answer_orig"
   ]
  },
  {
   "cell_type": "code",
   "execution_count": 18,
   "id": "931f5470-d382-4d51-a80c-e4909801ec4e",
   "metadata": {},
   "outputs": [
    {
     "data": {
      "text/plain": [
       "np.float32(32.095455)"
      ]
     },
     "execution_count": 18,
     "metadata": {},
     "output_type": "execute_result"
    }
   ],
   "source": [
    "import numpy as np\n",
    "def dot_product(a, b):\n",
    "    return np.dot(a, b)\n",
    "scores = []\n",
    "for i, row in df.iterrows():\n",
    "    answer_llm = row['answer_llm']\n",
    "    answer_rag = row['answer_orig']\n",
    "    \n",
    "    embedding_llm = model.encode(answer_llm)\n",
    "    embedding_rag = model.encode(answer_rag)\n",
    "    \n",
    "    score = dot_product(embedding_llm, embedding_rag)\n",
    "    scores.append(score)\n",
    "percentile_75 = np.percentile(scores, 75)\n",
    "percentile_75\n"
   ]
  },
  {
   "cell_type": "code",
   "execution_count": 19,
   "id": "a6b5a6f2-d8a0-4a46-9853-79a9c43a2d89",
   "metadata": {},
   "outputs": [
    {
     "data": {
      "text/plain": [
       "'You can sign up for the Machine Learning Zoomcamp using the link provided in the course GitHub repository: [https://airtable.com/shryxwLd0COOEaqXo](https://airtable.com/shryxwLd0COOEaqXo).'"
      ]
     },
     "execution_count": 19,
     "metadata": {},
     "output_type": "execute_result"
    }
   ],
   "source": [
    "answer_llm = df.iloc[1].answer_llm\n",
    "answer_llm"
   ]
  },
  {
   "cell_type": "code",
   "execution_count": 20,
   "id": "da37edfc-531f-4333-a8f7-d173087c2383",
   "metadata": {},
   "outputs": [
    {
     "data": {
      "text/plain": [
       "'Machine Learning Zoomcamp FAQ\\nThe purpose of this document is to capture frequently asked technical questions.\\nWe did this for our data engineering course and it worked quite well. Check this document for inspiration on how to structure your questions and answers:\\nData Engineering Zoomcamp FAQ\\nIn the course GitHub repository there’s a link. Here it is: https://airtable.com/shryxwLd0COOEaqXo\\nwork'"
      ]
     },
     "execution_count": 20,
     "metadata": {},
     "output_type": "execute_result"
    }
   ],
   "source": [
    "answer_orig = df.iloc[1].answer_orig\n",
    "answer_orig"
   ]
  },
  {
   "cell_type": "code",
   "execution_count": 21,
   "id": "6ee2a933-9c71-488a-a9f0-d8afd9d7efd7",
   "metadata": {},
   "outputs": [],
   "source": [
    "example_sentence_1 = 'The CONTEXT provided does not give specific instructions on how to sign up for the course. However, it does mention that you can access the course materials on the course page: [ML Zoomcamp](http://mlzoomcamp.com/). \\n\\nYou might want to start by visiting the course website and looking for further instructions there, as it likely has additional details on how to sign up or enroll in the course.'\n",
    "\n",
    "example_sentence_2 = 'You can sign up for the Machine Learning Zoomcamp using the link provided in the course GitHub repository: [https://airtable.com/shryxwLd0COOEaqXo](https://airtable.com/shryxwLd0COOEaqXo).'\n",
    "\n",
    "example_sentence_3 = 'Machine Learning Zoomcamp FAQ\\nThe purpose of this document is to capture frequently asked technical questions.\\nWe did this for our data engineering course and it worked quite well. Check this document for inspiration on how to structure your questions and answers:\\nData Engineering Zoomcamp FAQ\\nIn the course GitHub repository there’s a link. Here it is: https://airtable.com/shryxwLd0COOEaqXo\\nwork'\n",
    "\n",
    "example_sentence_4 = 'Machine Learning Zoomcamp FAQ\\nThe purpose of this document is to capture frequently asked technical questions.\\nWe did this for our data engineering course and it worked quite well. Check this document for inspiration on how to structure your questions and answers:\\nData Engineering Zoomcamp FAQ\\nIn the course GitHub repository there’s a link. Here it is: https://airtable.com/shryxwLd0COOEaqXo\\nwork'\n"
   ]
  },
  {
   "cell_type": "code",
   "execution_count": 22,
   "id": "22c8c720-0a1f-405d-a3e8-43d99d97e99b",
   "metadata": {},
   "outputs": [
    {
     "name": "stdout",
     "output_type": "stream",
     "text": [
      "75th percentile cosine similarity score: 0.6524028778076172\n"
     ]
    }
   ],
   "source": [
    "import numpy as np\n",
    "import pandas as pd\n",
    "from sentence_transformers import SentenceTransformer\n",
    "\n",
    "def dot_product(a, b):\n",
    "    return np.dot(a, b)\n",
    "\n",
    "def normalize_vector(v):\n",
    "    norm = np.sqrt((v * v).sum())\n",
    "    return v / norm\n",
    "\n",
    "embedding_model = SentenceTransformer('multi-qa-mpnet-base-dot-v1')\n",
    "\n",
    "df = pd.DataFrame({\n",
    "    'answer_llm': [example_sentence_1, example_sentence_2],\n",
    "    'answer_orig': [example_sentence_3, example_sentence_4]\n",
    "})\n",
    "\n",
    "\n",
    "scores = []\n",
    "for i, row in df.iterrows():\n",
    "    answer_llm = row['answer_llm']\n",
    "    answer_rag = row['answer_orig']\n",
    "    \n",
    "    embedding_llm =model.encode(answer_llm)\n",
    "    embedding_rag = model.encode(answer_rag)\n",
    "    \n",
    "  \n",
    "    embedding_llm = normalize_vector(embedding_llm)\n",
    "    embedding_rag = normalize_vector(embedding_rag)\n",
    "  \n",
    "    score = dot_product(embedding_llm, embedding_rag)\n",
    "    scores.append(score)\n",
    "\n",
    "percentile_75 = np.percentile(scores, 75)\n",
    "print(f'75th percentile cosine similarity score: {percentile_75}')\n"
   ]
  },
  {
   "cell_type": "code",
   "execution_count": 3,
   "id": "084e767e-b715-4d6f-99c6-3278278e317d",
   "metadata": {},
   "outputs": [
    {
     "name": "stdout",
     "output_type": "stream",
     "text": [
      "ROUGE-1 F1 Score: 0.6388888839236112\n"
     ]
    }
   ],
   "source": [
    "import pandas as pd\n",
    "from rouge import Rouge\n",
    "\n",
    "\n",
    "rouge_scorer = Rouge()\n",
    "github_url='https://github.com/DataTalksClub/llm-zoomcamp/blob/main/04-monitoring/data/results-gpt4o.csv'\n",
    "url = f'{github_url}?raw=1'\n",
    "\n",
    "df = pd.read_csv(url)\n",
    "\n",
    "answer_llm = df.loc[10, 'answer_llm']\n",
    "answer_orig = df.loc[10, 'answer_orig']\n",
    "\n",
    "scores = rouge_scorer.get_scores(answer_llm, answer_orig)[0]\n",
    "\n",
    "rouge_1_f1 = scores['rouge-1']['f']\n",
    "\n",
    "print(f'ROUGE-1 F1 Score: {rouge_1_f1}')\n"
   ]
  },
  {
   "cell_type": "code",
   "execution_count": 4,
   "id": "e1c10a63-8d60-419d-b450-413e64b89c75",
   "metadata": {},
   "outputs": [
    {
     "name": "stdout",
     "output_type": "stream",
     "text": [
      "Average ROUGE F1 Score: 0.545180717934311\n"
     ]
    }
   ],
   "source": [
    "rouge_2_f1 = scores['rouge-2']['f']\n",
    "rouge_l_f1 = scores['rouge-l']['f']\n",
    "\n",
    "\n",
    "average_f1 = (rouge_1_f1 + rouge_2_f1 + rouge_l_f1) / 3\n",
    "\n",
    "print(f'Average ROUGE F1 Score: {average_f1}')"
   ]
  },
  {
   "cell_type": "code",
   "execution_count": 5,
   "id": "955d8b29-9799-4a9e-8daa-660fced26c57",
   "metadata": {},
   "outputs": [
    {
     "name": "stdout",
     "output_type": "stream",
     "text": [
      "Average ROUGE-2 F1 Score across all records: 0.1703107062318786\n"
     ]
    }
   ],
   "source": [
    "rouge_2_scores = []\n",
    "\n",
    "\n",
    "for i, row in df.iterrows():\n",
    "    answer_llm = row['answer_llm']\n",
    "    answer_orig = row['answer_orig']\n",
    "    \n",
    "   \n",
    "    scores = rouge_scorer.get_scores(answer_llm, answer_orig)[0]\n",
    "\n",
    "   \n",
    "    rouge_2_f1 = scores['rouge-2']['f']\n",
    "    rouge_2_scores.append(rouge_2_f1)\n",
    "\n",
    "\n",
    "average_rouge_2 = sum(rouge_2_scores) / len(rouge_2_scores)\n",
    "\n",
    "print(f'Average ROUGE-2 F1 Score across all records: {average_rouge_2}')\n"
   ]
  },
  {
   "cell_type": "code",
   "execution_count": null,
   "id": "4252afde-f6c5-4cef-a5bc-f6f0e87eca60",
   "metadata": {},
   "outputs": [],
   "source": []
  }
 ],
 "metadata": {
  "kernelspec": {
   "display_name": "Python 3 (ipykernel)",
   "language": "python",
   "name": "python3"
  },
  "language_info": {
   "codemirror_mode": {
    "name": "ipython",
    "version": 3
   },
   "file_extension": ".py",
   "mimetype": "text/x-python",
   "name": "python",
   "nbconvert_exporter": "python",
   "pygments_lexer": "ipython3",
   "version": "3.10.13"
  }
 },
 "nbformat": 4,
 "nbformat_minor": 5
}
